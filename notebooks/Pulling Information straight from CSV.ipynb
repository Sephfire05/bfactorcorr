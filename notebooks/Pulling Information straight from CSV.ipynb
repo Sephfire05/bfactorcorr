{
 "cells": [
  {
   "cell_type": "code",
   "execution_count": 1,
   "metadata": {},
   "outputs": [],
   "source": [
    "## Author: Jason Luera\n",
    "## Purpose: Part 1: Using the csv file to grab each proteins pdb. \n",
    "## Purpose: Part 2: Writing output to a continued version of that original src file to a new merged one."
   ]
  },
  {
   "cell_type": "code",
   "execution_count": 1,
   "metadata": {},
   "outputs": [],
   "source": [
    "# Importing Libraries\n",
    "from biopandas.pdb import PandasPdb\n",
    "import numpy as np\n",
    "import pandas as pd"
   ]
  },
  {
   "cell_type": "code",
   "execution_count": 2,
   "metadata": {},
   "outputs": [
    {
     "data": {
      "text/plain": [
       "'/home/sanctus/git/bfactorcorr/notebooks'"
      ]
     },
     "execution_count": 2,
     "metadata": {},
     "output_type": "execute_result"
    }
   ],
   "source": [
    "pwd"
   ]
  },
  {
   "cell_type": "code",
   "execution_count": 3,
   "metadata": {},
   "outputs": [],
   "source": [
    "data = '/home/sanctus/git/bfactorcorr/src/data/pdb_bfactors.csv'"
   ]
  },
  {
   "cell_type": "code",
   "execution_count": 4,
   "metadata": {},
   "outputs": [
    {
     "name": "stderr",
     "output_type": "stream",
     "text": [
      "/home/sanctus/anaconda3/envs/PP3/lib/python3.7/site-packages/ipykernel_launcher.py:1: FutureWarning: from_csv is deprecated. Please use read_csv(...) instead. Note that some of the default arguments are different, so please refer to the documentation for from_csv when changing your function calls\n",
      "  \"\"\"Entry point for launching an IPython kernel.\n"
     ]
    },
    {
     "data": {
      "text/html": [
       "<div>\n",
       "<style scoped>\n",
       "    .dataframe tbody tr th:only-of-type {\n",
       "        vertical-align: middle;\n",
       "    }\n",
       "\n",
       "    .dataframe tbody tr th {\n",
       "        vertical-align: top;\n",
       "    }\n",
       "\n",
       "    .dataframe thead th {\n",
       "        text-align: right;\n",
       "    }\n",
       "</style>\n",
       "<table border=\"1\" class=\"dataframe\">\n",
       "  <thead>\n",
       "    <tr style=\"text-align: right;\">\n",
       "      <th></th>\n",
       "      <th>res_total</th>\n",
       "    </tr>\n",
       "    <tr>\n",
       "      <th>Protein</th>\n",
       "      <th></th>\n",
       "    </tr>\n",
       "  </thead>\n",
       "  <tbody>\n",
       "    <tr>\n",
       "      <th>132L</th>\n",
       "      <td>124</td>\n",
       "    </tr>\n",
       "    <tr>\n",
       "      <th>13PK</th>\n",
       "      <td>415</td>\n",
       "    </tr>\n",
       "    <tr>\n",
       "      <th>1A26</th>\n",
       "      <td>351</td>\n",
       "    </tr>\n",
       "    <tr>\n",
       "      <th>1A2T</th>\n",
       "      <td>134</td>\n",
       "    </tr>\n",
       "    <tr>\n",
       "      <th>1A4L</th>\n",
       "      <td>349</td>\n",
       "    </tr>\n",
       "    <tr>\n",
       "      <th>1A65</th>\n",
       "      <td>504</td>\n",
       "    </tr>\n",
       "    <tr>\n",
       "      <th>1A8H</th>\n",
       "      <td>500</td>\n",
       "    </tr>\n",
       "    <tr>\n",
       "      <th>1A8S</th>\n",
       "      <td>273</td>\n",
       "    </tr>\n",
       "    <tr>\n",
       "      <th>1AF7</th>\n",
       "      <td>274</td>\n",
       "    </tr>\n",
       "    <tr>\n",
       "      <th>1AGM</th>\n",
       "      <td>470</td>\n",
       "    </tr>\n",
       "  </tbody>\n",
       "</table>\n",
       "</div>"
      ],
      "text/plain": [
       "         res_total\n",
       "Protein           \n",
       "132L           124\n",
       "13PK           415\n",
       "1A26           351\n",
       "1A2T           134\n",
       "1A4L           349\n",
       "1A65           504\n",
       "1A8H           500\n",
       "1A8S           273\n",
       "1AF7           274\n",
       "1AGM           470"
      ]
     },
     "execution_count": 4,
     "metadata": {},
     "output_type": "execute_result"
    }
   ],
   "source": [
    "df = pd.DataFrame.from_csv(data)\n",
    "df.head(10)\n",
    "# Displays correct csv as DF"
   ]
  },
  {
   "cell_type": "code",
   "execution_count": 7,
   "metadata": {},
   "outputs": [
    {
     "name": "stdout",
     "output_type": "stream",
     "text": [
      "['132L', '13PK', '1A26', '1A2T', '1A4L', '1A65', '1A8H', '1A8S', '1AF7', '1AGM', '1AGY', '1AH7', '1AJ0', '1AK0', '1AKO', '1AMY', '1AQ2', '1AQL', '1AST', '1B04', '1B2R', '1BBS', '1BF2', '1BG0', '1BH2', '1BOL', '1BP2', '1BQC', '1BS0', '1BS4', '1BS9', '1BT1', '1BU7', '1BVV', '1BVZ', '1BWL', '1BWZ', '1BYA', '1BZC', '1C82', '1CA2', '1CB8', '1CBX', '1CDG', '1CEL', '1CHD', '1CHK', '1CM0', '1CNS', '1COY', '1CQQ', '1CVR', '1CWY', '1CZ1', '1CZF', '1D1Q', '1D4C', '1D6O', '1DDJ', '1DGK', '1DGS', '1DIN', '1DNP', '1DVE', '1E0C', '1E1A', '1E6E', '1EB6', '1EH5', '1EUG', '1EUU', '1EX1', '1EXN', '1EXP', '1EYP', '1FF3', '1FGH', '1FHL', '1FOA', '1G24', '1G6T', '1G8O', '1GA8', '1GAL', '1GCU', '1GOG', '1GP5', '1GQ8', '1H19', '1H3I', '1HKA', '1HPL', '1HPM', '1HQC', '1I1E', '1I1I', '1I9A', '1IDJ', '1IG8', '1IM5', '1INP', '1IU4', '1J00', '1J09', '1JH6', '1JMS', '1JOA', '1JS4', '1K30', '1KL7', '1KNP', '1L1D', '1L1L', '1L6P', '1L7N', '1L7Q', '1L8T', '1L9X', '1LBA', '1LDM', '1LJL', '1LVH', '1M53', '1MBB', '1MJ9', '1MLA', '1MRQ', '1MUD', '1MUG', '1NDH', '1NDI', '1NLU', '1O8A', '1O98', '1OG1', '1OGO', '1OJ4', '1ONR', '1OPM', '1OXA', '1OYG', '1P1X', '1P3D', '1P5D', '1PA9', '1PII', '1PKN', '1PMI', '1PP4', '1PS9', '1PTD', '1PUD', '1PYL', '1Q91', '1QAM', '1QAZ', '1QBA', '1QFM', '1QGX', '1QJE', '1QK2', '1QWN', '1R1J', '1R44', '1R4Z', '1RBN', '1RDD', '1RU4', '1S3I', '1S95', '1SCA', '1SLL', '1SML', '1SNZ', '1TAH', '1TLP', '1U3F', '1U5U', '1UAS', '1UN1', '1VID', '1VLB', '1VNC', '1VQ1', '1W0H', '1XQW', '1Y9M', '1YON', '1YSC', '1ZE1', '1ZIO', '206L', '2A0N', '2ABK', '2ACY', '2AYH', '2CPO', '2CPU', '2DLN', '2EBN', '2ENG', '2F61', '2F9R', '2NLR', '2NMT', '2PEC', '2PIA', '2PTH', '2SQC', '2THI', '2TPS', '5EAT', '7ATJ']\n"
     ]
    }
   ],
   "source": [
    "dfidx = df.index.tolist()\n",
    "print(dfidx)\n",
    "# This looks like a good starting point for running a pdb grab and refinement foundation."
   ]
  },
  {
   "cell_type": "code",
   "execution_count": 11,
   "metadata": {},
   "outputs": [],
   "source": [
    "# dfidx prints all values in array\n",
    "# len(dfidx) = 213"
   ]
  },
  {
   "cell_type": "code",
   "execution_count": 9,
   "metadata": {},
   "outputs": [],
   "source": [
    "# Steps\n",
    "# Put the index into a list\n",
    "# Fetch each of these proteins through PDB website\n",
    "# Time this as well"
   ]
  },
  {
   "cell_type": "code",
   "execution_count": 32,
   "metadata": {},
   "outputs": [
    {
     "name": "stdout",
     "output_type": "stream",
     "text": [
      "residue_number\n",
      "2       14.725714\n",
      "3       13.439091\n",
      "4       12.710000\n",
      "5       16.800909\n",
      "6       13.318333\n",
      "7       18.893333\n",
      "8       12.338750\n",
      "9       13.616000\n",
      "10      13.966000\n",
      "11      14.082000\n",
      "12      12.678750\n",
      "14      53.558182\n",
      "15      25.126000\n",
      "16      23.820000\n",
      "17      16.183750\n",
      "18      18.368750\n",
      "19      19.312500\n",
      "20      17.435000\n",
      "21      31.191818\n",
      "22      14.765000\n",
      "23      14.235833\n",
      "24      13.816667\n",
      "25      14.945000\n",
      "26       9.307500\n",
      "27      10.320000\n",
      "28      13.157857\n",
      "29      10.215714\n",
      "30       9.915000\n",
      "31       9.858000\n",
      "32       9.098000\n",
      "          ...    \n",
      "99      24.634286\n",
      "100     36.440000\n",
      "101     78.890000\n",
      "102    100.000000\n",
      "103     94.536250\n",
      "104     29.887500\n",
      "105     13.885000\n",
      "106     20.531250\n",
      "107     15.598000\n",
      "108     12.887857\n",
      "109     32.011429\n",
      "110     13.934000\n",
      "111     13.681429\n",
      "112     43.700000\n",
      "113     21.872500\n",
      "114     32.211818\n",
      "115     10.900000\n",
      "117     23.060000\n",
      "118     15.261429\n",
      "119     19.226250\n",
      "120     15.731429\n",
      "121     51.840000\n",
      "122     14.548000\n",
      "123     13.495714\n",
      "124     20.736250\n",
      "125     49.522727\n",
      "126     24.585000\n",
      "127     27.973333\n",
      "128     72.030000\n",
      "129     99.135556\n",
      "Name: b_factor, Length: 124, dtype: float64\n",
      "residue_number\n",
      "5      84.074722\n",
      "6      70.083889\n",
      "7      64.292778\n",
      "8      55.069583\n",
      "9      55.551562\n",
      "10     65.953125\n",
      "11     73.049722\n",
      "12     62.277083\n",
      "13     72.971250\n",
      "14     52.343750\n",
      "15     68.029167\n",
      "16     56.239375\n",
      "17     62.224444\n",
      "18     51.216111\n",
      "19     39.530357\n",
      "20     42.897812\n",
      "21     31.767500\n",
      "22     31.274091\n",
      "23     28.898929\n",
      "24     42.480000\n",
      "25     25.483182\n",
      "26     30.546562\n",
      "27     24.032143\n",
      "28     24.332143\n",
      "29     33.146786\n",
      "30     48.145833\n",
      "31     51.106875\n",
      "32     40.787500\n",
      "33     41.368056\n",
      "34     27.578125\n",
      "         ...    \n",
      "390    44.184545\n",
      "391    40.490938\n",
      "392    37.484167\n",
      "393    34.407500\n",
      "394    31.471429\n",
      "395    30.880417\n",
      "396    33.916786\n",
      "397    40.305625\n",
      "398    47.753750\n",
      "399    52.964375\n",
      "400    52.244000\n",
      "401    61.530417\n",
      "402    52.387500\n",
      "403    63.310000\n",
      "404    69.071562\n",
      "405    65.925625\n",
      "406    78.008611\n",
      "407    74.478125\n",
      "408    77.342500\n",
      "409    75.813571\n",
      "410    63.646250\n",
      "411    55.909286\n",
      "412    52.708125\n",
      "413    51.403929\n",
      "414    57.726071\n",
      "415    55.740000\n",
      "416    54.526250\n",
      "417    65.225313\n",
      "418    81.418125\n",
      "419    84.446000\n",
      "Name: b_factor, Length: 415, dtype: float64\n"
     ]
    }
   ],
   "source": [
    "for i in range(2):\n",
    "    ppdb = PandasPdb().fetch_pdb(dfidx[i])\n",
    "    ppdb.df['ATOM'].head()\n",
    "    df = pd.DataFrame(ppdb.df['ATOM'])\n",
    "    group = df['b_factor'].groupby(df['residue_number']).mean()\n",
    "    print(group)\n",
    "# group - type series\n",
    "# type group.values = numpy.ndarray\n",
    "# len(group.values) == residue sites on original csv"
   ]
  },
  {
   "cell_type": "code",
   "execution_count": 31,
   "metadata": {},
   "outputs": [],
   "source": [
    "# Need to move the values of group along side the residue site in an csv.\n",
    "# This requires merge, combine, and/or concat"
   ]
  },
  {
   "cell_type": "code",
   "execution_count": null,
   "metadata": {},
   "outputs": [],
   "source": []
  }
 ],
 "metadata": {
  "kernelspec": {
   "display_name": "Python 3",
   "language": "python",
   "name": "python3"
  },
  "language_info": {
   "codemirror_mode": {
    "name": "ipython",
    "version": 3
   },
   "file_extension": ".py",
   "mimetype": "text/x-python",
   "name": "python",
   "nbconvert_exporter": "python",
   "pygments_lexer": "ipython3",
   "version": "3.7.2"
  }
 },
 "nbformat": 4,
 "nbformat_minor": 2
}
