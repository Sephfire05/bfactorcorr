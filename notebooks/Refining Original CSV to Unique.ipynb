{
 "cells": [
  {
   "cell_type": "markdown",
   "metadata": {},
   "source": [
    "#### Author: Jason Luera\n",
    "#### Purpose: To refine the original csv given to a new one with only proteins and total residues / protein"
   ]
  },
  {
   "cell_type": "code",
   "execution_count": 1,
   "metadata": {},
   "outputs": [],
   "source": [
    "# Importing libraries\n",
    "from Bio.PDB import *\n",
    "import pandas as pd\n",
    "import numpy as np\n",
    "import os\n",
    "import glob"
   ]
  },
  {
   "cell_type": "code",
   "execution_count": 12,
   "metadata": {},
   "outputs": [
    {
     "data": {
      "text/plain": [
       "'/home/sanctus/git/bfactorcorr/src/data'"
      ]
     },
     "execution_count": 12,
     "metadata": {},
     "output_type": "execute_result"
    }
   ],
   "source": [
    "pwd"
   ]
  },
  {
   "cell_type": "code",
   "execution_count": 14,
   "metadata": {},
   "outputs": [],
   "source": [
    "file = '/home/sanctus/git/bfactorcorr/src/data/pdb_prop_general.csv'"
   ]
  },
  {
   "cell_type": "code",
   "execution_count": 17,
   "metadata": {},
   "outputs": [
    {
     "name": "stderr",
     "output_type": "stream",
     "text": [
      "/home/sanctus/anaconda3/envs/PP3/lib/python3.7/site-packages/ipykernel_launcher.py:1: FutureWarning: from_csv is deprecated. Please use read_csv(...) instead. Note that some of the default arguments are different, so please refer to the documentation for from_csv when changing your function calls\n",
      "  \"\"\"Entry point for launching an IPython kernel.\n"
     ]
    },
    {
     "data": {
      "text/html": [
       "<div>\n",
       "<style scoped>\n",
       "    .dataframe tbody tr th:only-of-type {\n",
       "        vertical-align: middle;\n",
       "    }\n",
       "\n",
       "    .dataframe tbody tr th {\n",
       "        vertical-align: top;\n",
       "    }\n",
       "\n",
       "    .dataframe thead th {\n",
       "        text-align: right;\n",
       "    }\n",
       "</style>\n",
       "<table border=\"1\" class=\"dataframe\">\n",
       "  <thead>\n",
       "    <tr style=\"text-align: right;\">\n",
       "      <th></th>\n",
       "      <th>chain</th>\n",
       "      <th>EC.class</th>\n",
       "      <th>Domains</th>\n",
       "      <th>Year</th>\n",
       "      <th>Resolution</th>\n",
       "      <th>Sites</th>\n",
       "      <th>Number.of.Sequences</th>\n",
       "    </tr>\n",
       "    <tr>\n",
       "      <th>Protein</th>\n",
       "      <th></th>\n",
       "      <th></th>\n",
       "      <th></th>\n",
       "      <th></th>\n",
       "      <th></th>\n",
       "      <th></th>\n",
       "      <th></th>\n",
       "    </tr>\n",
       "  </thead>\n",
       "  <tbody>\n",
       "    <tr>\n",
       "      <th>132L</th>\n",
       "      <td>A</td>\n",
       "      <td>3.02.01.0017</td>\n",
       "      <td>1</td>\n",
       "      <td>2-Jun-93</td>\n",
       "      <td>1.80</td>\n",
       "      <td>124</td>\n",
       "      <td>300</td>\n",
       "    </tr>\n",
       "    <tr>\n",
       "      <th>13PK</th>\n",
       "      <td>A</td>\n",
       "      <td>2.07.02.0003</td>\n",
       "      <td>1</td>\n",
       "      <td>23-Nov-96</td>\n",
       "      <td>2.50</td>\n",
       "      <td>415</td>\n",
       "      <td>300</td>\n",
       "    </tr>\n",
       "    <tr>\n",
       "      <th>1A26</th>\n",
       "      <td>A</td>\n",
       "      <td>2.04.02.0030</td>\n",
       "      <td>2</td>\n",
       "      <td>16-ene-98</td>\n",
       "      <td>2.25</td>\n",
       "      <td>351</td>\n",
       "      <td>300</td>\n",
       "    </tr>\n",
       "    <tr>\n",
       "      <th>1A2T</th>\n",
       "      <td>A</td>\n",
       "      <td>3.01.31.0001</td>\n",
       "      <td>1</td>\n",
       "      <td>11-ene-98</td>\n",
       "      <td>1.96</td>\n",
       "      <td>134</td>\n",
       "      <td>300</td>\n",
       "    </tr>\n",
       "    <tr>\n",
       "      <th>1A4L</th>\n",
       "      <td>A</td>\n",
       "      <td>5.99.01.0002</td>\n",
       "      <td>1</td>\n",
       "      <td>31-ene-98</td>\n",
       "      <td>2.60</td>\n",
       "      <td>349</td>\n",
       "      <td>300</td>\n",
       "    </tr>\n",
       "    <tr>\n",
       "      <th>1A65</th>\n",
       "      <td>A</td>\n",
       "      <td>1.10.03.0002</td>\n",
       "      <td>3</td>\n",
       "      <td>5-Mar-98</td>\n",
       "      <td>2.23</td>\n",
       "      <td>504</td>\n",
       "      <td>300</td>\n",
       "    </tr>\n",
       "    <tr>\n",
       "      <th>1A8H</th>\n",
       "      <td>A</td>\n",
       "      <td>6.01.01.0010</td>\n",
       "      <td>2</td>\n",
       "      <td>26-Mar-98</td>\n",
       "      <td>2.00</td>\n",
       "      <td>500</td>\n",
       "      <td>300</td>\n",
       "    </tr>\n",
       "    <tr>\n",
       "      <th>1A8S</th>\n",
       "      <td>A</td>\n",
       "      <td>1.11.01.0010</td>\n",
       "      <td>1</td>\n",
       "      <td>27-Mar-98</td>\n",
       "      <td>1.80</td>\n",
       "      <td>273</td>\n",
       "      <td>300</td>\n",
       "    </tr>\n",
       "    <tr>\n",
       "      <th>1AF7</th>\n",
       "      <td>A</td>\n",
       "      <td>2.01.01.0080</td>\n",
       "      <td>2</td>\n",
       "      <td>22-Mar-97</td>\n",
       "      <td>2.00</td>\n",
       "      <td>274</td>\n",
       "      <td>300</td>\n",
       "    </tr>\n",
       "    <tr>\n",
       "      <th>1AGM</th>\n",
       "      <td>A</td>\n",
       "      <td>3.02.01.0003</td>\n",
       "      <td>3</td>\n",
       "      <td>13-May-94</td>\n",
       "      <td>2.30</td>\n",
       "      <td>470</td>\n",
       "      <td>300</td>\n",
       "    </tr>\n",
       "  </tbody>\n",
       "</table>\n",
       "</div>"
      ],
      "text/plain": [
       "        chain      EC.class Domains       Year  Resolution  Sites  \\\n",
       "Protein                                                             \n",
       "132L        A  3.02.01.0017       1   2-Jun-93        1.80    124   \n",
       "13PK        A  2.07.02.0003       1  23-Nov-96        2.50    415   \n",
       "1A26        A  2.04.02.0030       2  16-ene-98        2.25    351   \n",
       "1A2T        A  3.01.31.0001       1  11-ene-98        1.96    134   \n",
       "1A4L        A  5.99.01.0002       1  31-ene-98        2.60    349   \n",
       "1A65        A  1.10.03.0002       3   5-Mar-98        2.23    504   \n",
       "1A8H        A  6.01.01.0010       2  26-Mar-98        2.00    500   \n",
       "1A8S        A  1.11.01.0010       1  27-Mar-98        1.80    273   \n",
       "1AF7        A  2.01.01.0080       2  22-Mar-97        2.00    274   \n",
       "1AGM        A  3.02.01.0003       3  13-May-94        2.30    470   \n",
       "\n",
       "         Number.of.Sequences  \n",
       "Protein                       \n",
       "132L                     300  \n",
       "13PK                     300  \n",
       "1A26                     300  \n",
       "1A2T                     300  \n",
       "1A4L                     300  \n",
       "1A65                     300  \n",
       "1A8H                     300  \n",
       "1A8S                     300  \n",
       "1AF7                     300  \n",
       "1AGM                     300  "
      ]
     },
     "execution_count": 17,
     "metadata": {},
     "output_type": "execute_result"
    }
   ],
   "source": [
    "df = pd.DataFrame.from_csv(file)\n",
    "df.head(10)"
   ]
  },
  {
   "cell_type": "code",
   "execution_count": 21,
   "metadata": {},
   "outputs": [
    {
     "data": {
      "text/plain": [
       "Protein\n",
       "132L    124\n",
       "13PK    415\n",
       "1A26    351\n",
       "1A2T    134\n",
       "1A4L    349\n",
       "1A65    504\n",
       "1A8H    500\n",
       "1A8S    273\n",
       "1AF7    274\n",
       "1AGM    470\n",
       "Name: Sites, dtype: int64"
      ]
     },
     "execution_count": 21,
     "metadata": {},
     "output_type": "execute_result"
    }
   ],
   "source": [
    "df1 = df.Sites\n",
    "df1.head(10)"
   ]
  },
  {
   "cell_type": "code",
   "execution_count": 23,
   "metadata": {},
   "outputs": [],
   "source": [
    "output = '/home/sanctus/git/bfactorcorr/src/data/pdb_bfactors'"
   ]
  },
  {
   "cell_type": "code",
   "execution_count": 24,
   "metadata": {},
   "outputs": [
    {
     "name": "stderr",
     "output_type": "stream",
     "text": [
      "/home/sanctus/anaconda3/envs/PP3/lib/python3.7/site-packages/ipykernel_launcher.py:1: FutureWarning: The signature of `Series.to_csv` was aligned to that of `DataFrame.to_csv`, and argument 'header' will change its default value from False to True: please pass an explicit value to suppress this warning.\n",
      "  \"\"\"Entry point for launching an IPython kernel.\n"
     ]
    }
   ],
   "source": [
    "df1.to_csv(output)"
   ]
  },
  {
   "cell_type": "code",
   "execution_count": null,
   "metadata": {},
   "outputs": [],
   "source": []
  },
  {
   "cell_type": "code",
   "execution_count": null,
   "metadata": {},
   "outputs": [],
   "source": []
  }
 ],
 "metadata": {
  "kernelspec": {
   "display_name": "Python 3",
   "language": "python",
   "name": "python3"
  },
  "language_info": {
   "codemirror_mode": {
    "name": "ipython",
    "version": 3
   },
   "file_extension": ".py",
   "mimetype": "text/x-python",
   "name": "python",
   "nbconvert_exporter": "python",
   "pygments_lexer": "ipython3",
   "version": "3.7.2"
  }
 },
 "nbformat": 4,
 "nbformat_minor": 2
}
