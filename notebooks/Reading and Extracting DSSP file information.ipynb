{
 "cells": [
  {
   "cell_type": "markdown",
   "metadata": {},
   "source": [
    "## This file is for reading a dssp file and seeing if we can put that into a dataframe.\n",
    "## Jason Luera"
   ]
  },
  {
   "cell_type": "code",
   "execution_count": 13,
   "metadata": {},
   "outputs": [],
   "source": [
    "# Importing libraries\n",
    "from Bio.PDB import *\n",
    "import pandas as pd\n",
    "import numpy as np\n",
    "import os\n",
    "import glob"
   ]
  },
  {
   "cell_type": "code",
   "execution_count": 14,
   "metadata": {},
   "outputs": [
    {
     "name": "stdout",
     "output_type": "stream",
     "text": [
      "/home/sanctus/Proteomics-Research/data/DSSP/dssp_files\n"
     ]
    }
   ],
   "source": [
    "cd ~/Proteomics-Research/data/DSSP/dssp_files/"
   ]
  },
  {
   "cell_type": "code",
   "execution_count": 15,
   "metadata": {},
   "outputs": [
    {
     "name": "stdout",
     "output_type": "stream",
     "text": [
      "dssp_folder.txt  pdb1cbx.dssp  pdb1gog.dssp  pdb1mug.dssp  pdb1sll.dssp\r\n",
      "pdb132l.dssp\t pdb1cdg.dssp  pdb1gp5.dssp  pdb1ndh.dssp  pdb1sml.dssp\r\n",
      "pdb13pk.dssp\t pdb1cel.dssp  pdb1gq8.dssp  pdb1ndi.dssp  pdb1snz.dssp\r\n",
      "pdb1a26.dssp\t pdb1chd.dssp  pdb1h19.dssp  pdb1nlu.dssp  pdb1tah.dssp\r\n",
      "pdb1a2t.dssp\t pdb1chk.dssp  pdb1h3i.dssp  pdb1o8a.dssp  pdb1tlp.dssp\r\n",
      "pdb1a4l.dssp\t pdb1cm0.dssp  pdb1hka.dssp  pdb1o98.dssp  pdb1u3f.dssp\r\n",
      "pdb1a65.dssp\t pdb1cns.dssp  pdb1hpl.dssp  pdb1og1.dssp  pdb1u5u.dssp\r\n",
      "pdb1a8h.dssp\t pdb1coy.dssp  pdb1hpm.dssp  pdb1ogo.dssp  pdb1uas.dssp\r\n",
      "pdb1a8s.dssp\t pdb1cqq.dssp  pdb1hqc.dssp  pdb1oj4.dssp  pdb1un1.dssp\r\n",
      "pdb1af7.dssp\t pdb1cvr.dssp  pdb1i1e.dssp  pdb1onr.dssp  pdb1vid.dssp\r\n",
      "pdb1agm.dssp\t pdb1cwy.dssp  pdb1i1i.dssp  pdb1opm.dssp  pdb1vlb.dssp\r\n",
      "pdb1agy.dssp\t pdb1cz1.dssp  pdb1i9a.dssp  pdb1oxa.dssp  pdb1vnc.dssp\r\n",
      "pdb1ah7.dssp\t pdb1czf.dssp  pdb1idj.dssp  pdb1oyg.dssp  pdb1vq1.dssp\r\n",
      "pdb1aj0.dssp\t pdb1d1q.dssp  pdb1ig8.dssp  pdb1p1x.dssp  pdb1w0h.dssp\r\n",
      "pdb1ak0.dssp\t pdb1d4c.dssp  pdb1im5.dssp  pdb1p3d.dssp  pdb1xqw.dssp\r\n",
      "pdb1ako.dssp\t pdb1d6o.dssp  pdb1inp.dssp  pdb1p5d.dssp  pdb1y9m.dssp\r\n",
      "pdb1amy.dssp\t pdb1ddj.dssp  pdb1iu4.dssp  pdb1pa9.dssp  pdb1yon.dssp\r\n",
      "pdb1aq2.dssp\t pdb1dgk.dssp  pdb1j00.dssp  pdb1pii.dssp  pdb1ysc.dssp\r\n",
      "pdb1aql.dssp\t pdb1dgs.dssp  pdb1j09.dssp  pdb1pkn.dssp  pdb1ze1.dssp\r\n",
      "pdb1ast.dssp\t pdb1din.dssp  pdb1jh6.dssp  pdb1pmi.dssp  pdb1zio.dssp\r\n",
      "pdb1b04.dssp\t pdb1dnp.dssp  pdb1jms.dssp  pdb1pp4.dssp  pdb206l.dssp\r\n",
      "pdb1b2r.dssp\t pdb1dve.dssp  pdb1joa.dssp  pdb1ps9.dssp  pdb2a0n.dssp\r\n",
      "pdb1bbs.dssp\t pdb1e0c.dssp  pdb1js4.dssp  pdb1ptd.dssp  pdb2abk.dssp\r\n",
      "pdb1bf2.dssp\t pdb1e1a.dssp  pdb1k30.dssp  pdb1pud.dssp  pdb2acy.dssp\r\n",
      "pdb1bg0.dssp\t pdb1e6e.dssp  pdb1kl7.dssp  pdb1pyl.dssp  pdb2ayh.dssp\r\n",
      "pdb1bh2.dssp\t pdb1eb6.dssp  pdb1knp.dssp  pdb1q91.dssp  pdb2cpo.dssp\r\n",
      "pdb1bol.dssp\t pdb1eh5.dssp  pdb1l1d.dssp  pdb1qam.dssp  pdb2cpu.dssp\r\n",
      "pdb1bp2.dssp\t pdb1eug.dssp  pdb1l1l.dssp  pdb1qaz.dssp  pdb2dln.dssp\r\n",
      "pdb1bqc.dssp\t pdb1euu.dssp  pdb1l6p.dssp  pdb1qba.dssp  pdb2ebn.dssp\r\n",
      "pdb1bs0.dssp\t pdb1ex1.dssp  pdb1l7n.dssp  pdb1qfm.dssp  pdb2eng.dssp\r\n",
      "pdb1bs4.dssp\t pdb1exn.dssp  pdb1l7q.dssp  pdb1qgx.dssp  pdb2f61.dssp\r\n",
      "pdb1bs9.dssp\t pdb1exp.dssp  pdb1l8t.dssp  pdb1qje.dssp  pdb2f9r.dssp\r\n",
      "pdb1bt1.dssp\t pdb1eyp.dssp  pdb1l9x.dssp  pdb1qk2.dssp  pdb2nlr.dssp\r\n",
      "pdb1bu7.dssp\t pdb1ff3.dssp  pdb1lba.dssp  pdb1qwn.dssp  pdb2nmt.dssp\r\n",
      "pdb1bvv.dssp\t pdb1fgh.dssp  pdb1ldm.dssp  pdb1r1j.dssp  pdb2pec.dssp\r\n",
      "pdb1bvz.dssp\t pdb1fhl.dssp  pdb1ljl.dssp  pdb1r44.dssp  pdb2pia.dssp\r\n",
      "pdb1bwl.dssp\t pdb1foa.dssp  pdb1lvh.dssp  pdb1r4z.dssp  pdb2pth.dssp\r\n",
      "pdb1bwz.dssp\t pdb1g24.dssp  pdb1m53.dssp  pdb1rbn.dssp  pdb2sqc.dssp\r\n",
      "pdb1bya.dssp\t pdb1g6t.dssp  pdb1mbb.dssp  pdb1rdd.dssp  pdb2thi.dssp\r\n",
      "pdb1bzc.dssp\t pdb1g8o.dssp  pdb1mj9.dssp  pdb1ru4.dssp  pdb2tps.dssp\r\n",
      "pdb1c82.dssp\t pdb1ga8.dssp  pdb1mla.dssp  pdb1s3i.dssp  pdb5eat.dssp\r\n",
      "pdb1ca2.dssp\t pdb1gal.dssp  pdb1mrq.dssp  pdb1s95.dssp  pdb7atj.dssp\r\n",
      "pdb1cb8.dssp\t pdb1gcu.dssp  pdb1mud.dssp  pdb1sca.dssp\r\n"
     ]
    }
   ],
   "source": [
    "# Changed directory to the dssp files\n",
    "!ls"
   ]
  },
  {
   "cell_type": "code",
   "execution_count": 16,
   "metadata": {},
   "outputs": [],
   "source": [
    "# Defining the folder as a specific strong\n",
    "folder = \"home/sanctus/Proteomics-Research/data/DSSP/dssp_files/\""
   ]
  },
  {
   "cell_type": "code",
   "execution_count": 59,
   "metadata": {},
   "outputs": [
    {
     "name": "stdout",
     "output_type": "stream",
     "text": [
      "pdb1uas.dssp\n",
      "213\n",
      "1mrq\n",
      "1uas\n"
     ]
    }
   ],
   "source": [
    "#print(glob.glob('*.dssp'))\n",
    "# print all files with the ending .dssp\n",
    "files = [f for f in glob.glob('*.dssp')]\n",
    "Index = []\n",
    "print(files[3]) # Printing elements from array\n",
    "print(len(files)) # 213 unique dssp files\n",
    "# print(files)\n",
    "files[1] = files[1].lstrip('pdb').rstrip('.dssp')\n",
    "print(files[1])\n",
    "Index = [x.lstrip('pdb').rstrip('.dssp') for x in files]\n",
    "#print(Index) # Problem here is some index have 3 letters instead of 4\n",
    "s = str(files[3])\n",
    "s = s[3:7]\n",
    "print(s)\n",
    "# Creating index values list"
   ]
  },
  {
   "cell_type": "code",
   "execution_count": 47,
   "metadata": {},
   "outputs": [
    {
     "name": "stdout",
     "output_type": "stream",
     "text": [
      "[]\n"
     ]
    }
   ],
   "source": []
  },
  {
   "cell_type": "code",
   "execution_count": null,
   "metadata": {},
   "outputs": [],
   "source": []
  }
 ],
 "metadata": {
  "kernelspec": {
   "display_name": "Python 3",
   "language": "python",
   "name": "python3"
  },
  "language_info": {
   "codemirror_mode": {
    "name": "ipython",
    "version": 3
   },
   "file_extension": ".py",
   "mimetype": "text/x-python",
   "name": "python",
   "nbconvert_exporter": "python",
   "pygments_lexer": "ipython3",
   "version": "3.7.2"
  }
 },
 "nbformat": 4,
 "nbformat_minor": 2
}
